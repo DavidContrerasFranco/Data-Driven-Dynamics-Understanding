{
 "cells": [
  {
   "cell_type": "code",
   "execution_count": 3,
   "source": [
    "import os\n",
    "import numpy as np\n",
    "import pysindy as ps\n",
    "import networkx as nx\n",
    "from tqdm import tqdm\n",
    "import matplotlib.pyplot as plt\n",
    "from sklearn.linear_model import Lasso"
   ],
   "outputs": [],
   "metadata": {}
  },
  {
   "cell_type": "code",
   "execution_count": 7,
   "source": [
    "# Amount of networks to generate\n",
    "nets = 10\n",
    "\n",
    "# Generation Options\n",
    "nodes = 10000\n",
    "edges = 2\n",
    "\n",
    "# Networks\n",
    "graphs = []\n",
    "\n",
    "for net in range(nets):\n",
    "    G = nx.generators.random_graphs.barabasi_albert_graph(nodes, edges)\n",
    "    graphs += [G]"
   ],
   "outputs": [],
   "metadata": {}
  },
  {
   "cell_type": "code",
   "execution_count": 8,
   "source": [
    "# Get average degree\n",
    "avg_degree = np.zeros((nodes, nodes))\n",
    "for idx, G in enumerate(graphs):\n",
    "    print('Graph', idx)\n",
    "    # Degrees through time\n",
    "    degrees_t = np.zeros((nodes, nodes))\n",
    "    for num, t in tqdm(enumerate(degrees_t)):\n",
    "        index = range(num+1)\n",
    "        H = G.subgraph(index)\n",
    "        degrees_sub = np.fromiter(dict(nx.degree(H)).values(), dtype=int)\n",
    "        degrees_t[num] = np.pad(degrees_sub, (0, nodes - num - 1), 'constant', constant_values=0)\n",
    "    avg_degree += degrees_t\n",
    "avg_degree /= nets"
   ],
   "outputs": [
    {
     "output_type": "stream",
     "name": "stdout",
     "text": [
      "Graph 0\n"
     ]
    },
    {
     "output_type": "stream",
     "name": "stderr",
     "text": [
      "10000it [05:17, 31.52it/s]\n"
     ]
    },
    {
     "output_type": "stream",
     "name": "stdout",
     "text": [
      "Graph 1\n"
     ]
    },
    {
     "output_type": "stream",
     "name": "stderr",
     "text": [
      "10000it [05:17, 31.51it/s]\n"
     ]
    },
    {
     "output_type": "stream",
     "name": "stdout",
     "text": [
      "Graph 2\n"
     ]
    },
    {
     "output_type": "stream",
     "name": "stderr",
     "text": [
      "10000it [05:16, 31.61it/s]\n"
     ]
    },
    {
     "output_type": "stream",
     "name": "stdout",
     "text": [
      "Graph 3\n"
     ]
    },
    {
     "output_type": "stream",
     "name": "stderr",
     "text": [
      "10000it [05:16, 31.63it/s]\n"
     ]
    },
    {
     "output_type": "stream",
     "name": "stdout",
     "text": [
      "Graph 4\n"
     ]
    },
    {
     "output_type": "stream",
     "name": "stderr",
     "text": [
      "10000it [05:07, 32.51it/s]\n"
     ]
    },
    {
     "output_type": "stream",
     "name": "stdout",
     "text": [
      "Graph 5\n"
     ]
    },
    {
     "output_type": "stream",
     "name": "stderr",
     "text": [
      "10000it [05:04, 32.86it/s]\n"
     ]
    },
    {
     "output_type": "stream",
     "name": "stdout",
     "text": [
      "Graph 6\n"
     ]
    },
    {
     "output_type": "stream",
     "name": "stderr",
     "text": [
      "10000it [04:38, 35.90it/s]\n"
     ]
    },
    {
     "output_type": "stream",
     "name": "stdout",
     "text": [
      "Graph 7\n"
     ]
    },
    {
     "output_type": "stream",
     "name": "stderr",
     "text": [
      "10000it [04:30, 36.91it/s]\n"
     ]
    },
    {
     "output_type": "stream",
     "name": "stdout",
     "text": [
      "Graph 8\n"
     ]
    },
    {
     "output_type": "stream",
     "name": "stderr",
     "text": [
      "10000it [04:30, 36.97it/s]\n"
     ]
    },
    {
     "output_type": "stream",
     "name": "stdout",
     "text": [
      "Graph 9\n"
     ]
    },
    {
     "output_type": "stream",
     "name": "stderr",
     "text": [
      "10000it [04:29, 37.14it/s]\n"
     ]
    }
   ],
   "metadata": {}
  },
  {
   "cell_type": "code",
   "execution_count": 10,
   "source": [
    "# Get File Names\n",
    "data_path = os.path.join(os.path.abspath(''), '..', 'Data', 'Generated', 'Barabasi')\n",
    "save_path = os.path.join(data_path, 'Test_Network.npy')\n",
    "\n",
    "with open(save_path, 'wb') as f:\n",
    "    np.save(f, avg_degree)"
   ],
   "outputs": [],
   "metadata": {}
  },
  {
   "cell_type": "code",
   "execution_count": 113,
   "source": [
    "t = np.arange(nodes)\n",
    "avg_degree[:,0]"
   ],
   "outputs": [
    {
     "output_type": "execute_result",
     "data": {
      "text/plain": [
       "array([  0.,   1.,   2., ..., 203., 203., 203.])"
      ]
     },
     "metadata": {},
     "execution_count": 113
    }
   ],
   "metadata": {}
  },
  {
   "cell_type": "markdown",
   "source": [
    "# Model Structure\n",
    "The sparse recovery of the dynamics depend on the model defined for it. Such model is composed of a differentiation method to find the numerical derivative of the measured data, a features library that contains the set of basis functions that define the likely behaviour of the data, and an optimizer that defines the algorithms that performs the sparse regression to solve the approximation problem. With this context and following [Tips](https://pysindy.readthedocs.io/en/latest/tips.html) the following is chosen:\n",
    "\n",
    "## Differentiation Method\n",
    "Based on [Differentiation](https://pysindy.readthedocs.io/en/latest/examples/5_differentation.html), there are different available methods to compute:\n",
    "\n",
    "![X \\rightarrow  \\dot{X}](https://latex.codecogs.com/svg.latex?X&space;\\rightarrow&space;\\dot{X})\n",
    "\n",
    "Given the stepwise nature of the degree of a node in the network, since it grows in discrete amplitudes on discrete time, the Trend Filtered method was chose.\n",
    "\n",
    "**TODO:**\n",
    "- [ ] PySINDy Finite Difference: Forward & Centered\n",
    "- [ ] Finite Difference\n",
    "- [ ] Smoothed Finite Difference\n",
    "- [ ] Savitzky Golay\n",
    "- [ ] Spline\n",
    "- [x] Trend Filtered\n",
    "- [ ] Spectral\n",
    "\n",
    "## Basis Set\n",
    "SINDy assumes that the system dynamics can be represented as a sparse linear combination of the basis functions. A bad selection of a basis set leads to the assumption being violated and as such a resulting bad model (generally non-sparse). Based on this an ideal approach would be a basis set of functions that defines the likely nature; in this case some time-series basis set would be ideal. As an initial approach the Polynomial Library is used since such basis set requieres deeper insight into the data.\n",
    "\n",
    "## Optimizer\n",
    "For the optimizer an initial attempt with the sequentially-thresholded least-squares algorithm is simpler and future attempts with other methods (such as LASSO) can be done as a comparison."
   ],
   "metadata": {}
  },
  {
   "cell_type": "code",
   "execution_count": 127,
   "source": [
    "model = ps.SINDy(\n",
    "    differentiation_method=ps.SINDyDerivative(kind='trend_filtered', order=0, alpha=1e-2),\n",
    "    feature_library=ps.PolynomialLibrary(degree=3),\n",
    "    optimizer=ps.STLSQ(threshold=0.00001),\n",
    "    feature_names=['K', 't']\n",
    ")"
   ],
   "outputs": [],
   "metadata": {}
  },
  {
   "cell_type": "code",
   "execution_count": 129,
   "source": [
    "# First column is the degree the second one is the time\n",
    "# X = avg_degree[:,0]\n",
    "X = np.stack((avg_degree[:,0], t[:]), axis=-1)\n",
    "model.fit(X)"
   ],
   "outputs": [
    {
     "output_type": "stream",
     "name": "stderr",
     "text": [
      "/local/anaconda3/envs/dddu/lib/python3.9/site-packages/sklearn/linear_model/_ridge.py:147: LinAlgWarning: Ill-conditioned matrix (rcond=5.73539e-27): result may not be accurate.\n",
      "  return linalg.solve(A, Xy, sym_pos=True,\n",
      "/local/anaconda3/envs/dddu/lib/python3.9/site-packages/sklearn/linear_model/_ridge.py:147: LinAlgWarning: Ill-conditioned matrix (rcond=5.73539e-27): result may not be accurate.\n",
      "  return linalg.solve(A, Xy, sym_pos=True,\n"
     ]
    },
    {
     "output_type": "execute_result",
     "data": {
      "text/plain": [
       "SINDy(differentiation_method=SINDyDerivative(alpha=0.01, kind='trend_filtered',\n",
       "                                             order=0),\n",
       "      feature_library=PolynomialLibrary(degree=3), feature_names=['K', 't'],\n",
       "      optimizer=STLSQ(threshold=1e-05))"
      ]
     },
     "metadata": {},
     "execution_count": 129
    }
   ],
   "metadata": {}
  },
  {
   "cell_type": "code",
   "execution_count": 130,
   "source": [
    "model.print()"
   ],
   "outputs": [
    {
     "output_type": "stream",
     "name": "stdout",
     "text": [
      "K' = 0.128 1 + -0.002 K\n",
      "t' = 1.000 1\n"
     ]
    }
   ],
   "metadata": {}
  },
  {
   "cell_type": "code",
   "execution_count": 131,
   "source": [
    "# Get vectors for plotting\n",
    "k_mod = avg_degree[:,0]\n",
    "k_sim = model.simulate([0,0], t=t)[:,0]"
   ],
   "outputs": [],
   "metadata": {}
  },
  {
   "cell_type": "code",
   "execution_count": 140,
   "source": [
    "# Analytic approach\n",
    "def barabasi(k, t):\n",
    "    return k / (2*t)\n",
    "\n",
    "T = 10000\n",
    "k_ant = np.zeros(T)\n",
    "k_ant[1:10] = k_mod[1:10]\n",
    "\n",
    "for t_a in range(1, T-1):\n",
    "        dk = barabasi(k_ant[t_a], t_a)\n",
    "        k_ant[t_a + 1] = k_ant[t_a] + dk"
   ],
   "outputs": [],
   "metadata": {}
  },
  {
   "cell_type": "code",
   "execution_count": 141,
   "source": [
    "plt.plot(t, k_mod)\n",
    "plt.plot(t, k_sim)\n",
    "plt.plot(t, k_ant)\n",
    "plt.legend(['Model Avg.', 'SINDy Model', 'Analytical'])"
   ],
   "outputs": [
    {
     "output_type": "execute_result",
     "data": {
      "text/plain": [
       "<matplotlib.legend.Legend at 0x7f7de6d84a00>"
      ]
     },
     "metadata": {},
     "execution_count": 141
    },
    {
     "output_type": "display_data",
     "data": {
      "text/plain": [
       "<Figure size 432x288 with 1 Axes>"
      ],
      "image/png": "[encoded data removed]"
     },
     "metadata": {
      "needs_background": "light"
     }
    }
   ],
   "metadata": {}
  }
 ],
 "metadata": {
  "orig_nbformat": 4,
  "language_info": {
   "name": "python",
   "version": "3.9.0",
   "mimetype": "text/x-python",
   "codemirror_mode": {
    "name": "ipython",
    "version": 3
   },
   "pygments_lexer": "ipython3",
   "nbconvert_exporter": "python",
   "file_extension": ".py"
  },
  "kernelspec": {
   "name": "python3",
   "display_name": "Python 3.9.0 64-bit ('dddu': conda)"
  },
  "interpreter": {
   "hash": "c24fd828f43b18e47ff07a9f666c3c5e38b01f3efae957c3f829756e43c27d07"
  }
 },
 "nbformat": 4,
 "nbformat_minor": 2
}