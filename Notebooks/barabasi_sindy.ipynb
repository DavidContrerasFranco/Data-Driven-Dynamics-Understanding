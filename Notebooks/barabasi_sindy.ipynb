{
 "cells": [
  {
   "cell_type": "code",
   "execution_count": 1,
   "source": [
    "import os\n",
    "import numpy as np\n",
    "import pysindy as ps\n",
    "import networkx as nx\n",
    "from tqdm import tqdm\n",
    "import matplotlib.pyplot as plt\n",
    "from sklearn.linear_model import Lasso"
   ],
   "outputs": [],
   "metadata": {}
  },
  {
   "cell_type": "code",
   "execution_count": 2,
   "source": [
    "# Amount of networks to generate\n",
    "nets = 50\n",
    "\n",
    "# Generation Options\n",
    "nodes = 10000\n",
    "edges = 2\n",
    "\n",
    "# Networks\n",
    "graphs = []\n",
    "\n",
    "for net in range(nets):\n",
    "    G = nx.generators.random_graphs.barabasi_albert_graph(nodes, edges)\n",
    "    graphs += [G]"
   ],
   "outputs": [],
   "metadata": {}
  },
  {
   "cell_type": "code",
   "execution_count": 3,
   "source": [
    "# Get average degree\n",
    "avg_degree = np.zeros((nodes, nodes))\n",
    "for idx, G in enumerate(graphs):\n",
    "    print('Graph', idx)\n",
    "    # Degrees through time\n",
    "    degrees_t = np.zeros((nodes, nodes))\n",
    "    for num, t in tqdm(enumerate(degrees_t)):\n",
    "        index = range(num+1)\n",
    "        H = G.subgraph(index)\n",
    "        degrees_sub = np.fromiter(dict(nx.degree(H)).values(), dtype=int)\n",
    "        degrees_t[num] = np.pad(degrees_sub, (0, nodes - num - 1), 'constant', constant_values=0)\n",
    "    avg_degree += degrees_t\n",
    "avg_degree /= nets"
   ],
   "outputs": [
    {
     "output_type": "stream",
     "name": "stdout",
     "text": [
      "Graph 0\n"
     ]
    },
    {
     "output_type": "stream",
     "name": "stderr",
     "text": [
      "10000it [05:27, 30.50it/s]\n"
     ]
    },
    {
     "output_type": "stream",
     "name": "stdout",
     "text": [
      "Graph 1\n"
     ]
    },
    {
     "output_type": "stream",
     "name": "stderr",
     "text": [
      "10000it [04:44, 35.15it/s]\n"
     ]
    },
    {
     "output_type": "stream",
     "name": "stdout",
     "text": [
      "Graph 2\n"
     ]
    },
    {
     "output_type": "stream",
     "name": "stderr",
     "text": [
      "10000it [04:47, 34.77it/s]\n"
     ]
    },
    {
     "output_type": "stream",
     "name": "stdout",
     "text": [
      "Graph 3\n"
     ]
    },
    {
     "output_type": "stream",
     "name": "stderr",
     "text": [
      "10000it [04:50, 34.37it/s]\n"
     ]
    },
    {
     "output_type": "stream",
     "name": "stdout",
     "text": [
      "Graph 4\n"
     ]
    },
    {
     "output_type": "stream",
     "name": "stderr",
     "text": [
      "10000it [04:46, 34.90it/s]\n"
     ]
    },
    {
     "output_type": "stream",
     "name": "stdout",
     "text": [
      "Graph 5\n"
     ]
    },
    {
     "output_type": "stream",
     "name": "stderr",
     "text": [
      "10000it [04:47, 34.80it/s]\n"
     ]
    },
    {
     "output_type": "stream",
     "name": "stdout",
     "text": [
      "Graph 6\n"
     ]
    },
    {
     "output_type": "stream",
     "name": "stderr",
     "text": [
      "10000it [04:48, 34.72it/s]\n"
     ]
    },
    {
     "output_type": "stream",
     "name": "stdout",
     "text": [
      "Graph 7\n"
     ]
    },
    {
     "output_type": "stream",
     "name": "stderr",
     "text": [
      "10000it [04:22, 38.07it/s]\n"
     ]
    },
    {
     "output_type": "stream",
     "name": "stdout",
     "text": [
      "Graph 8\n"
     ]
    },
    {
     "output_type": "stream",
     "name": "stderr",
     "text": [
      "10000it [04:23, 38.02it/s]\n"
     ]
    },
    {
     "output_type": "stream",
     "name": "stdout",
     "text": [
      "Graph 9\n"
     ]
    },
    {
     "output_type": "stream",
     "name": "stderr",
     "text": [
      "10000it [04:21, 38.24it/s]\n"
     ]
    },
    {
     "output_type": "stream",
     "name": "stdout",
     "text": [
      "Graph 10\n"
     ]
    },
    {
     "output_type": "stream",
     "name": "stderr",
     "text": [
      "10000it [04:42, 35.42it/s]\n"
     ]
    },
    {
     "output_type": "stream",
     "name": "stdout",
     "text": [
      "Graph 11\n"
     ]
    },
    {
     "output_type": "stream",
     "name": "stderr",
     "text": [
      "10000it [05:03, 32.98it/s]\n"
     ]
    },
    {
     "output_type": "stream",
     "name": "stdout",
     "text": [
      "Graph 12\n"
     ]
    },
    {
     "output_type": "stream",
     "name": "stderr",
     "text": [
      "10000it [04:39, 35.78it/s]\n"
     ]
    },
    {
     "output_type": "stream",
     "name": "stdout",
     "text": [
      "Graph 13\n"
     ]
    },
    {
     "output_type": "stream",
     "name": "stderr",
     "text": [
      "10000it [04:22, 38.04it/s]\n"
     ]
    },
    {
     "output_type": "stream",
     "name": "stdout",
     "text": [
      "Graph 14\n"
     ]
    },
    {
     "output_type": "stream",
     "name": "stderr",
     "text": [
      "10000it [04:22, 38.07it/s]\n"
     ]
    },
    {
     "output_type": "stream",
     "name": "stdout",
     "text": [
      "Graph 15\n"
     ]
    },
    {
     "output_type": "stream",
     "name": "stderr",
     "text": [
      "10000it [04:29, 37.11it/s]\n"
     ]
    },
    {
     "output_type": "stream",
     "name": "stdout",
     "text": [
      "Graph 16\n"
     ]
    },
    {
     "output_type": "stream",
     "name": "stderr",
     "text": [
      "10000it [04:42, 35.36it/s]\n"
     ]
    },
    {
     "output_type": "stream",
     "name": "stdout",
     "text": [
      "Graph 17\n"
     ]
    },
    {
     "output_type": "stream",
     "name": "stderr",
     "text": [
      "10000it [04:24, 37.77it/s]\n"
     ]
    },
    {
     "output_type": "stream",
     "name": "stdout",
     "text": [
      "Graph 18\n"
     ]
    },
    {
     "output_type": "stream",
     "name": "stderr",
     "text": [
      "10000it [04:19, 38.50it/s]\n"
     ]
    },
    {
     "output_type": "stream",
     "name": "stdout",
     "text": [
      "Graph 19\n"
     ]
    },
    {
     "output_type": "stream",
     "name": "stderr",
     "text": [
      "10000it [04:19, 38.50it/s]\n"
     ]
    },
    {
     "output_type": "stream",
     "name": "stdout",
     "text": [
      "Graph 20\n"
     ]
    },
    {
     "output_type": "stream",
     "name": "stderr",
     "text": [
      "10000it [04:19, 38.54it/s]\n"
     ]
    },
    {
     "output_type": "stream",
     "name": "stdout",
     "text": [
      "Graph 21\n"
     ]
    },
    {
     "output_type": "stream",
     "name": "stderr",
     "text": [
      "10000it [04:21, 38.22it/s]\n"
     ]
    },
    {
     "output_type": "stream",
     "name": "stdout",
     "text": [
      "Graph 22\n"
     ]
    },
    {
     "output_type": "stream",
     "name": "stderr",
     "text": [
      "10000it [04:22, 38.11it/s]\n"
     ]
    },
    {
     "output_type": "stream",
     "name": "stdout",
     "text": [
      "Graph 23\n"
     ]
    },
    {
     "output_type": "stream",
     "name": "stderr",
     "text": [
      "10000it [04:24, 37.75it/s]\n"
     ]
    },
    {
     "output_type": "stream",
     "name": "stdout",
     "text": [
      "Graph 24\n"
     ]
    },
    {
     "output_type": "stream",
     "name": "stderr",
     "text": [
      "10000it [04:23, 37.92it/s]\n"
     ]
    },
    {
     "output_type": "stream",
     "name": "stdout",
     "text": [
      "Graph 25\n"
     ]
    },
    {
     "output_type": "stream",
     "name": "stderr",
     "text": [
      "10000it [04:20, 38.32it/s]\n"
     ]
    },
    {
     "output_type": "stream",
     "name": "stdout",
     "text": [
      "Graph 26\n"
     ]
    },
    {
     "output_type": "stream",
     "name": "stderr",
     "text": [
      "10000it [04:23, 38.00it/s]\n"
     ]
    },
    {
     "output_type": "stream",
     "name": "stdout",
     "text": [
      "Graph 27\n"
     ]
    },
    {
     "output_type": "stream",
     "name": "stderr",
     "text": [
      "10000it [04:24, 37.88it/s]\n"
     ]
    },
    {
     "output_type": "stream",
     "name": "stdout",
     "text": [
      "Graph 28\n"
     ]
    },
    {
     "output_type": "stream",
     "name": "stderr",
     "text": [
      "10000it [04:21, 38.20it/s]\n"
     ]
    },
    {
     "output_type": "stream",
     "name": "stdout",
     "text": [
      "Graph 29\n"
     ]
    },
    {
     "output_type": "stream",
     "name": "stderr",
     "text": [
      "10000it [04:21, 38.24it/s]\n"
     ]
    },
    {
     "output_type": "stream",
     "name": "stdout",
     "text": [
      "Graph 30\n"
     ]
    },
    {
     "output_type": "stream",
     "name": "stderr",
     "text": [
      "10000it [04:20, 38.39it/s]\n"
     ]
    },
    {
     "output_type": "stream",
     "name": "stdout",
     "text": [
      "Graph 31\n"
     ]
    },
    {
     "output_type": "stream",
     "name": "stderr",
     "text": [
      "10000it [04:22, 38.12it/s]\n"
     ]
    },
    {
     "output_type": "stream",
     "name": "stdout",
     "text": [
      "Graph 32\n"
     ]
    },
    {
     "output_type": "stream",
     "name": "stderr",
     "text": [
      "10000it [04:19, 38.49it/s]\n"
     ]
    },
    {
     "output_type": "stream",
     "name": "stdout",
     "text": [
      "Graph 33\n"
     ]
    },
    {
     "output_type": "stream",
     "name": "stderr",
     "text": [
      "10000it [04:20, 38.37it/s]\n"
     ]
    },
    {
     "output_type": "stream",
     "name": "stdout",
     "text": [
      "Graph 34\n"
     ]
    },
    {
     "output_type": "stream",
     "name": "stderr",
     "text": [
      "10000it [04:20, 38.36it/s]\n"
     ]
    },
    {
     "output_type": "stream",
     "name": "stdout",
     "text": [
      "Graph 35\n"
     ]
    },
    {
     "output_type": "stream",
     "name": "stderr",
     "text": [
      "10000it [04:28, 37.30it/s]\n"
     ]
    },
    {
     "output_type": "stream",
     "name": "stdout",
     "text": [
      "Graph 36\n"
     ]
    },
    {
     "output_type": "stream",
     "name": "stderr",
     "text": [
      "10000it [04:29, 37.16it/s]\n"
     ]
    },
    {
     "output_type": "stream",
     "name": "stdout",
     "text": [
      "Graph 37\n"
     ]
    },
    {
     "output_type": "stream",
     "name": "stderr",
     "text": [
      "10000it [04:19, 38.47it/s]\n"
     ]
    },
    {
     "output_type": "stream",
     "name": "stdout",
     "text": [
      "Graph 38\n"
     ]
    },
    {
     "output_type": "stream",
     "name": "stderr",
     "text": [
      "10000it [04:22, 38.10it/s]\n"
     ]
    },
    {
     "output_type": "stream",
     "name": "stdout",
     "text": [
      "Graph 39\n"
     ]
    },
    {
     "output_type": "stream",
     "name": "stderr",
     "text": [
      "10000it [04:20, 38.44it/s]\n"
     ]
    },
    {
     "output_type": "stream",
     "name": "stdout",
     "text": [
      "Graph 40\n"
     ]
    },
    {
     "output_type": "stream",
     "name": "stderr",
     "text": [
      "10000it [04:21, 38.27it/s]\n"
     ]
    },
    {
     "output_type": "stream",
     "name": "stdout",
     "text": [
      "Graph 41\n"
     ]
    },
    {
     "output_type": "stream",
     "name": "stderr",
     "text": [
      "10000it [04:22, 38.13it/s]\n"
     ]
    },
    {
     "output_type": "stream",
     "name": "stdout",
     "text": [
      "Graph 42\n"
     ]
    },
    {
     "output_type": "stream",
     "name": "stderr",
     "text": [
      "10000it [04:35, 36.25it/s]\n"
     ]
    },
    {
     "output_type": "stream",
     "name": "stdout",
     "text": [
      "Graph 43\n"
     ]
    },
    {
     "output_type": "stream",
     "name": "stderr",
     "text": [
      "10000it [04:23, 38.02it/s]\n"
     ]
    },
    {
     "output_type": "stream",
     "name": "stdout",
     "text": [
      "Graph 44\n"
     ]
    },
    {
     "output_type": "stream",
     "name": "stderr",
     "text": [
      "10000it [04:26, 37.49it/s]\n"
     ]
    },
    {
     "output_type": "stream",
     "name": "stdout",
     "text": [
      "Graph 45\n"
     ]
    },
    {
     "output_type": "stream",
     "name": "stderr",
     "text": [
      "10000it [04:22, 38.06it/s]\n"
     ]
    },
    {
     "output_type": "stream",
     "name": "stdout",
     "text": [
      "Graph 46\n"
     ]
    },
    {
     "output_type": "stream",
     "name": "stderr",
     "text": [
      "10000it [04:30, 36.97it/s]\n"
     ]
    },
    {
     "output_type": "stream",
     "name": "stdout",
     "text": [
      "Graph 47\n"
     ]
    },
    {
     "output_type": "stream",
     "name": "stderr",
     "text": [
      "10000it [04:24, 37.83it/s]\n"
     ]
    },
    {
     "output_type": "stream",
     "name": "stdout",
     "text": [
      "Graph 48\n"
     ]
    },
    {
     "output_type": "stream",
     "name": "stderr",
     "text": [
      "10000it [04:21, 38.30it/s]\n"
     ]
    },
    {
     "output_type": "stream",
     "name": "stdout",
     "text": [
      "Graph 49\n"
     ]
    },
    {
     "output_type": "stream",
     "name": "stderr",
     "text": [
      "10000it [04:19, 38.55it/s]\n"
     ]
    }
   ],
   "metadata": {}
  },
  {
   "cell_type": "code",
   "execution_count": 4,
   "source": [
    "# Get File Names\n",
    "data_path = os.path.join(os.path.abspath(''), '..', 'Data', 'Generated', 'Barabasi')\n",
    "save_path = os.path.join(data_path, 'Test_Network_50.npy')\n",
    "\n",
    "with open(save_path, 'wb') as f:\n",
    "    np.save(f, avg_degree)"
   ],
   "outputs": [],
   "metadata": {}
  },
  {
   "cell_type": "code",
   "execution_count": 5,
   "source": [
    "t = np.arange(nodes)\n",
    "avg_degree[:,0]"
   ],
   "outputs": [
    {
     "output_type": "execute_result",
     "data": {
      "text/plain": [
       "array([  0.  ,   1.  ,   2.  , ..., 190.98, 190.98, 190.98])"
      ]
     },
     "metadata": {},
     "execution_count": 5
    }
   ],
   "metadata": {}
  },
  {
   "cell_type": "markdown",
   "source": [
    "# Model Structure\n",
    "The sparse recovery of the dynamics depend on the model defined for it. Such model is composed of a differentiation method to find the numerical derivative of the measured data, a features library that contains the set of basis functions that define the likely behaviour of the data, and an optimizer that defines the algorithms that performs the sparse regression to solve the approximation problem. With this context and following [Tips](https://pysindy.readthedocs.io/en/latest/tips.html) the following is chosen:\n",
    "\n",
    "## Differentiation Method\n",
    "Based on [Differentiation](https://pysindy.readthedocs.io/en/latest/examples/5_differentation.html), there are different available methods to compute:\n",
    "\n",
    "![X \\rightarrow  \\dot{X}](https://latex.codecogs.com/svg.latex?X&space;\\rightarrow&space;\\dot{X})\n",
    "\n",
    "Given the stepwise nature of the degree of a node in the network, since it grows in discrete amplitudes on discrete time, the Trend Filtered method was chose.\n",
    "\n",
    "**TODO:**\n",
    "- [ ] PySINDy Finite Difference: Forward & Centered\n",
    "- [ ] Finite Difference\n",
    "- [ ] Smoothed Finite Difference\n",
    "- [ ] Savitzky Golay\n",
    "- [ ] Spline\n",
    "- [x] Trend Filtered\n",
    "- [ ] Spectral\n",
    "\n",
    "## Basis Set\n",
    "SINDy assumes that the system dynamics can be represented as a sparse linear combination of the basis functions. A bad selection of a basis set leads to the assumption being violated and as such a resulting bad model (generally non-sparse). Based on this an ideal approach would be a basis set of functions that defines the likely nature; in this case some time-series basis set would be ideal. As an initial approach the Polynomial Library is used since such basis set requieres deeper insight into the data.\n",
    "\n",
    "## Optimizer\n",
    "For the optimizer an initial attempt with the sequentially-thresholded least-squares algorithm is simpler and future attempts with other methods (such as LASSO) can be done as a comparison."
   ],
   "metadata": {}
  },
  {
   "cell_type": "code",
   "execution_count": 6,
   "source": [
    "model = ps.SINDy(\n",
    "    differentiation_method=ps.SINDyDerivative(kind='trend_filtered', order=0, alpha=1e-2),\n",
    "    feature_library=ps.PolynomialLibrary(degree=3),\n",
    "    optimizer=ps.STLSQ(threshold=1e-5),\n",
    "    feature_names=['K', 't']\n",
    ")"
   ],
   "outputs": [],
   "metadata": {}
  },
  {
   "cell_type": "code",
   "execution_count": 7,
   "source": [
    "# First column is the degree the second one is the time\n",
    "# X = avg_degree[:,0]\n",
    "X = np.stack((avg_degree[:,0], t[:]), axis=-1)\n",
    "model.fit(X)"
   ],
   "outputs": [
    {
     "output_type": "stream",
     "name": "stderr",
     "text": [
      "/local/anaconda3/envs/dddu/lib/python3.9/site-packages/sklearn/linear_model/_ridge.py:147: LinAlgWarning: Ill-conditioned matrix (rcond=6.92262e-27): result may not be accurate.\n",
      "  return linalg.solve(A, Xy, sym_pos=True,\n",
      "/local/anaconda3/envs/dddu/lib/python3.9/site-packages/sklearn/linear_model/_ridge.py:147: LinAlgWarning: Ill-conditioned matrix (rcond=6.92262e-27): result may not be accurate.\n",
      "  return linalg.solve(A, Xy, sym_pos=True,\n"
     ]
    },
    {
     "output_type": "execute_result",
     "data": {
      "text/plain": [
       "SINDy(differentiation_method=SINDyDerivative(alpha=0.01, kind='trend_filtered',\n",
       "                                             order=0),\n",
       "      feature_library=PolynomialLibrary(degree=3), feature_names=['K', 't'],\n",
       "      optimizer=STLSQ(threshold=1e-05))"
      ]
     },
     "metadata": {},
     "execution_count": 7
    }
   ],
   "metadata": {}
  },
  {
   "cell_type": "code",
   "execution_count": 9,
   "source": [
    "model.print()"
   ],
   "outputs": [
    {
     "output_type": "stream",
     "name": "stdout",
     "text": [
      "K' = 0.132 1 + -0.002 K\n",
      "t' = 1.000 1\n"
     ]
    }
   ],
   "metadata": {}
  },
  {
   "cell_type": "code",
   "execution_count": 10,
   "source": [
    "# Get vectors for plotting\n",
    "k_mod = avg_degree[:,0]\n",
    "k_sim = model.simulate([0,0], t=t)[:,0]"
   ],
   "outputs": [],
   "metadata": {}
  },
  {
   "cell_type": "code",
   "execution_count": 13,
   "source": [
    "# Analytic approach\n",
    "def barabasi(m, t, t_i):\n",
    "    return m * np.sqrt(t / t_i)\n",
    "\n",
    "t = np.arange(10000)\n",
    "k_ant = barabasi(2, t, 1)"
   ],
   "outputs": [],
   "metadata": {}
  },
  {
   "cell_type": "code",
   "execution_count": 21,
   "source": [
    "fig=plt.figure(figsize=(6,4), dpi= 200, facecolor='w', edgecolor='k')\n",
    "plt.plot(t, k_mod)\n",
    "plt.plot(t, k_sim)\n",
    "plt.plot(t, k_ant)\n",
    "plt.title('Degree Growth Comparison')\n",
    "plt.xlabel('Time')\n",
    "plt.ylabel('Degree')\n",
    "plt.legend(['Model Avg.', 'SINDy Model', 'Analytical'])"
   ],
   "outputs": [
    {
     "output_type": "execute_result",
     "data": {
      "text/plain": [
       "<matplotlib.legend.Legend at 0x7f1f28472e20>"
      ]
     },
     "metadata": {},
     "execution_count": 21
    },
    {
     "output_type": "display_data",
     "data": {
      "text/plain": [
       "<Figure size 1200x800 with 1 Axes>"
      ],
      "image/png": "[encoded data removed]"
     },
     "metadata": {}
    }
   ],
   "metadata": {}
  }
 ],
 "metadata": {
  "orig_nbformat": 4,
  "language_info": {
   "name": "python",
   "version": "3.9.0",
   "mimetype": "text/x-python",
   "codemirror_mode": {
    "name": "ipython",
    "version": 3
   },
   "pygments_lexer": "ipython3",
   "nbconvert_exporter": "python",
   "file_extension": ".py"
  },
  "kernelspec": {
   "name": "python3",
   "display_name": "Python 3.9.0 64-bit ('dddu': conda)"
  },
  "interpreter": {
   "hash": "c24fd828f43b18e47ff07a9f666c3c5e38b01f3efae957c3f829756e43c27d07"
  }
 },
 "nbformat": 4,
 "nbformat_minor": 2
}